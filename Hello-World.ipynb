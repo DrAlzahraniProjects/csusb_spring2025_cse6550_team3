{
 "cells": [
  {
   "cell_type": "code",
   "execution_count": 1,
   "id": "ceeee903-49c6-4977-912f-e5c8810c1f0d",
   "metadata": {},
   "outputs": [
    {
     "name": "stdin",
     "output_type": "stream",
     "text": [
      "Enter API key for Groq:  ········\n"
     ]
    }
   ],
   "source": [
    "import getpass\n",
    "import os\n",
    "\n",
    "if not os.environ.get(\"GROQ_API_KEY\"):\n",
    "  os.environ[\"GROQ_API_KEY\"] = getpass.getpass(\"Enter API key for Groq: \")"
   ]
  },
  {
   "cell_type": "code",
   "execution_count": null,
   "id": "d966cff3-afbb-4961-b7c2-ceeb2d1c1547",
   "metadata": {},
   "outputs": [
    {
     "name": "stdout",
     "output_type": "stream",
     "text": [
      "Chatbot is ready! Type 'exit' to quit.\n"
     ]
    },
    {
     "name": "stdin",
     "output_type": "stream",
     "text": [
      "You:  Hi\n"
     ]
    },
    {
     "name": "stdout",
     "output_type": "stream",
     "text": [
      "AI: Hi there! It's nice to meet you. Is there something I can help you with or would you like to chat?\n"
     ]
    },
    {
     "name": "stdin",
     "output_type": "stream",
     "text": [
      "You:  My name is Anika\n"
     ]
    },
    {
     "name": "stdout",
     "output_type": "stream",
     "text": [
      "AI: Nice to meet you, Anika! It's great to have you here. Is there anything on your mind that you'd like to talk about or ask? I'm all ears (or in this case, all text)!\n"
     ]
    },
    {
     "name": "stdin",
     "output_type": "stream",
     "text": [
      "You:  What is my name?\n"
     ]
    },
    {
     "name": "stdout",
     "output_type": "stream",
     "text": [
      "AI: I remember! Your name is Anika!\n"
     ]
    }
   ],
   "source": [
    "from langchain.chat_models import init_chat_model\n",
    "from langchain.schema import SystemMessage, HumanMessage, AIMessage\n",
    "import os\n",
    "\n",
    "def main():\n",
    "    # Set OpenAI API key (ensure you have set the environment variable OPENAI_API_KEY)\n",
    "    api_key = os.getenv(\"GROQ_API_KEY\")\n",
    "    if not api_key:\n",
    "        print(\"Error: Please set your OPENAI_API_KEY environment variable.\")\n",
    "        return\n",
    "\n",
    "    # Initialize LLM\n",
    "    chat = init_chat_model(\"llama3-8b-8192\", model_provider=\"groq\")\n",
    "    \n",
    "    # Initial system message\n",
    "    messages = [SystemMessage(content=\"You are a helpful AI assistant.\")]\n",
    "    \n",
    "    print(\"Chatbot is ready! Type 'exit' to quit.\")\n",
    "    while True:\n",
    "        user_input = input(\"You: \")\n",
    "        if user_input.lower() == \"exit\":\n",
    "            print(\"Goodbye!\")\n",
    "            break\n",
    "        \n",
    "        messages.append(HumanMessage(content=user_input))\n",
    "        \n",
    "        # Generate response\n",
    "        response = chat.invoke(messages)\n",
    "        ai_message = AIMessage(content=response.content)\n",
    "        messages.append(ai_message)\n",
    "        \n",
    "        print(f\"AI: {response.content}\")\n",
    "\n",
    "if __name__ == \"__main__\":\n",
    "    main()\n"
   ]
  },
  {
   "cell_type": "code",
   "execution_count": null,
   "id": "375dc3c2-0d1d-4c09-8302-bc230cbfc06b",
   "metadata": {},
   "outputs": [],
   "source": []
  }
 ],
 "metadata": {
  "kernelspec": {
   "display_name": "Python 3 (ipykernel)",
   "language": "python",
   "name": "python3"
  },
  "language_info": {
   "codemirror_mode": {
    "name": "ipython",
    "version": 3
   },
   "file_extension": ".py",
   "mimetype": "text/x-python",
   "name": "python",
   "nbconvert_exporter": "python",
   "pygments_lexer": "ipython3",
   "version": "3.10.0"
  }
 },
 "nbformat": 4,
 "nbformat_minor": 5
}
