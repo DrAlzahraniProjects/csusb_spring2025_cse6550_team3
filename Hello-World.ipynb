{
  "metadata": {
    "kernelspec": {
      "name": "python",
      "display_name": "Python (Pyodide)",
      "language": "python"
    },
    "language_info": {
      "codemirror_mode": {
        "name": "python",
        "version": 3
      },
      "file_extension": ".py",
      "mimetype": "text/x-python",
      "name": "python",
      "nbconvert_exporter": "python",
      "pygments_lexer": "ipython3",
      "version": "3.8"
    }
  },
  "nbformat_minor": 5,
  "nbformat": 4,
  "cells": [
    {
      "id": "9c8f83b9-69e4-472b-9f3e-eb9430205494",
      "cell_type": "markdown",
      "source": "# Introduction\nThis is a very simple \"Hello World\" web app, that will eventually be turned into an AI chatbot.\n\n## 1. Setup\nFirst, we need to build our app. This is done using Flask.\nThese first few lines of code create an instance of the Flask class.",
      "metadata": {}
    },
    {
      "id": "f09bd16f-f2b7-42a8-963d-5506a20f418b",
      "cell_type": "code",
      "source": "import os\nfrom flask import Flask\n\napp = Flask(__name__)",
      "metadata": {
        "trusted": true
      },
      "outputs": [],
      "execution_count": null
    },
    {
      "id": "763fa953-98b9-4c96-9b42-a711dcc7fd4a",
      "cell_type": "markdown",
      "source": "## 2. Web Page\nNext, we need to tell the web app what to say upon creation. In this case it will be:\n\"Hello World! -Team 3\"",
      "metadata": {}
    },
    {
      "id": "9e503981-daae-4150-9a51-e964ae7af3e8",
      "cell_type": "code",
      "source": "@app.route(\"/\")\ndef main():\n    return 'Hello World!\\n--Team 3'",
      "metadata": {
        "trusted": true
      },
      "outputs": [],
      "execution_count": null
    },
    {
      "id": "04c80b3e-288d-4241-b3fd-6cf1d289d7b3",
      "cell_type": "markdown",
      "source": "## 3. Implementation\nFinally, we start the app with the following commands.",
      "metadata": {}
    },
    {
      "id": "cf67e3a6-1602-4274-b6d7-5b251008434d",
      "cell_type": "code",
      "source": "if __name__ == \"__main__\":\n    port = int(os.environ.get(\"PORT\", 2503))\n    app.run(debug=True,host='0.0.0.0',port=port)",
      "metadata": {
        "trusted": true
      },
      "outputs": [],
      "execution_count": null
    }
  ]
}