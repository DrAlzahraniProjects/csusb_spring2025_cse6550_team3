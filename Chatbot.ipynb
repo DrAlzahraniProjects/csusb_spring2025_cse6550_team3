{
 "cells": [
  {
   "cell_type": "code",
   "execution_count": 1,
   "id": "ceeee903-49c6-4977-912f-e5c8810c1f0d",
   "metadata": {},
   "outputs": [
    {
     "name": "stdout",
     "output_type": "stream",
     "text": [
      "Enter API key for Groq:  ········\n"
     ]
    }
   ],
   "source": [
    "import getpass\n",
    "import os\n",
    "\n",
    "if not os.environ.get(\"GROQ_API_KEY\"):\n",
    "  os.environ[\"GROQ_API_KEY\"] = getpass.getpass(\"Enter API key for Groq: \")"
   ]
  },
  {
   "cell_type": "code",
   "execution_count": null,
   "id": "375dc3c2-0d1d-4c09-8302-bc230cbfc06b",
   "metadata": {},
   "outputs": [],
   "source": [
    "import faiss\n",
    "import numpy as np\n",
    "import pandas as pd\n",
    "from sentence_transformers import SentenceTransformer\n",
    "from langchain.chat_models import init_chat_model\n",
    "from langchain.schema import SystemMessage, HumanMessage, AIMessage\n",
    "import os\n",
    "\n",
    "# Path to the CSV file\n",
    "output_file_path = \"/data/output.csv\"\n",
    "\n",
    "# Load the CSV file\n",
    "df = pd.read_csv(output_file_path)\n",
    "\n",
    "# Ensure the CSV file has a column named 'text'\n",
    "if 'text' not in df.columns:\n",
    "    raise ValueError(\"CSV file must have a 'text' column\")\n",
    "\n",
    "# Extract sentences from the CSV file\n",
    "sentences = df['text'].tolist()\n",
    "\n",
    "# Load a pre-trained sentence embedding model\n",
    "model = SentenceTransformer('all-MiniLM-L6-v2')  # You can choose any model you prefer\n",
    "\n",
    "# Generate embeddings for the sentences\n",
    "embeddings = model.encode(sentences).astype('float32')\n",
    "\n",
    "# Create a FAISS index\n",
    "index = faiss.IndexFlatL2(embeddings.shape[1])  # L2 distance\n",
    "index.add(embeddings)  # Add embeddings to the index\n",
    "\n",
    "def retrieve_similar_sentences(query_sentence, k=1):\n",
    "    # Generate embedding for the query sentence\n",
    "    query_embedding = model.encode(query_sentence).astype('float32').reshape(1, -1)  # Reshape to 2D array\n",
    "\n",
    "    # Search the index\n",
    "    distances, indices = index.search(query_embedding, k)\n",
    "\n",
    "    # Retrieve and return the most similar sentences\n",
    "    similar_sentences = [sentences[indices[0][i]] for i in range(k)]\n",
    "    return similar_sentences\n",
    "\n",
    "def main():\n",
    "    # Set OpenAI API key (ensure you have set the environment variable OPENAI_API_KEY)\n",
    "    api_key = os.getenv(\"GROQ_API_KEY\")\n",
    "    if not api_key:\n",
    "        print(\"Error: Please set your OPENAI_API_KEY environment variable.\")\n",
    "        return\n",
    "\n",
    "    # Initialize LLM\n",
    "    chat = init_chat_model(\"llama3-8b-8192\", model_provider=\"groq\")\n",
    "    \n",
    "    # Initial system message\n",
    "    messages = [SystemMessage(content=\"You are a helpful AI assistant.\")]\n",
    "    \n",
    "    print(\"Chatbot is ready! Type 'exit' to quit.\")\n",
    "    while True:\n",
    "        user_input = input(\"You: \")\n",
    "        if user_input.lower() == \"exit\":\n",
    "            print(\"Goodbye!\")\n",
    "            break\n",
    "        \n",
    "        # Retrieve similar sentences based on user input\n",
    "        similar_sentences = retrieve_similar_sentences(user_input)\n",
    "        context = \" \".join(similar_sentences)  # Combine similar sentences for context\n",
    "        \n",
    "        messages.append(HumanMessage(content=user_input))\n",
    "        messages.append(SystemMessage(content=f\"Context: {context}\"))  # Add context to the messages\n",
    "        \n",
    "        # Generate response\n",
    "        response = chat.invoke(messages)\n",
    "        ai_message = AIMessage(content=response.content)\n",
    "        messages.append(ai_message)\n",
    "        \n",
    "        print(f\"AI: {response.content}\")\n",
    "\n",
    "if __name__ == \"__main__\":\n",
    "    main()\n"
   ]
  }
 ],
 "metadata": {
  "kernelspec": {
   "display_name": "Python 3 (ipykernel)",
   "language": "python",
   "name": "python3"
  },
  "language_info": {
   "codemirror_mode": {
    "name": "ipython",
    "version": 3
   },
   "file_extension": ".py",
   "mimetype": "text/x-python",
   "name": "python",
   "nbconvert_exporter": "python",
   "pygments_lexer": "ipython3",
   "version": "3.10.0"
  }
 },
 "nbformat": 4,
 "nbformat_minor": 5
}
